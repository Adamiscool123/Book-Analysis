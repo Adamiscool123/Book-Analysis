{
 "cells": [
  {
   "cell_type": "markdown",
   "id": "1642f4c3-178b-44d1-b632-7d080135c643",
   "metadata": {
    "jp-MarkdownHeadingCollapsed": true
   },
   "source": [
    "# Load the book"
   ]
  },
  {
   "cell_type": "code",
   "execution_count": 27,
   "id": "ff54685c-ee1c-4850-a0a5-acafd257e0ff",
   "metadata": {},
   "outputs": [],
   "source": [
    "with open('miracle_in_the_andes.txt', 'r', encoding='utf-8') as file:\n",
    "    book = file.read()"
   ]
  },
  {
   "cell_type": "markdown",
   "id": "b508804b-efea-4fed-bbcc-3ca7f056b671",
   "metadata": {},
   "source": [
    "# How many chapters?"
   ]
  },
  {
   "cell_type": "markdown",
   "id": "bd1aa0ce-56b5-4427-9bc6-57c60c3c1eb1",
   "metadata": {
    "jp-MarkdownHeadingCollapsed": true
   },
   "source": [
    "### With string methods"
   ]
  },
  {
   "cell_type": "code",
   "execution_count": 8,
   "id": "40b6ccec-e8b9-45bb-bfa5-b92d2a3939de",
   "metadata": {},
   "outputs": [
    {
     "data": {
      "text/plain": [
       "11"
      ]
     },
     "execution_count": 8,
     "metadata": {},
     "output_type": "execute_result"
    }
   ],
   "source": [
    "book.count('Chapter')"
   ]
  },
  {
   "cell_type": "markdown",
   "id": "273b181e-8152-4fe6-b2d9-8fb14d6c771f",
   "metadata": {
    "jp-MarkdownHeadingCollapsed": true
   },
   "source": [
    "### With regular expressions"
   ]
  },
  {
   "cell_type": "code",
   "execution_count": 9,
   "id": "a56a0c19-b673-4866-a4f5-1e23e18988e5",
   "metadata": {},
   "outputs": [],
   "source": [
    "import re"
   ]
  },
  {
   "cell_type": "code",
   "execution_count": 23,
   "id": "0dd4a7c8-c69b-43fb-a0a2-4bd5216b5cdc",
   "metadata": {},
   "outputs": [
    {
     "name": "stdout",
     "output_type": "stream",
     "text": [
      "There are 10 chapters\n"
     ]
    }
   ],
   "source": [
    "pattern = re.compile(\"Chapter [0-9]+\")\n",
    "finding = re.findall(pattern, book)\n",
    "print(f'There are {len(finding)} chapters')"
   ]
  },
  {
   "cell_type": "code",
   "execution_count": null,
   "id": "d400e1eb-f60c-49d9-8637-e64eb73deb7f",
   "metadata": {},
   "outputs": [],
   "source": []
  }
 ],
 "metadata": {
  "kernelspec": {
   "display_name": "Python 3 (ipykernel)",
   "language": "python",
   "name": "python3"
  },
  "language_info": {
   "codemirror_mode": {
    "name": "ipython",
    "version": 3
   },
   "file_extension": ".py",
   "mimetype": "text/x-python",
   "name": "python",
   "nbconvert_exporter": "python",
   "pygments_lexer": "ipython3",
   "version": "3.13.2"
  }
 },
 "nbformat": 4,
 "nbformat_minor": 5
}
